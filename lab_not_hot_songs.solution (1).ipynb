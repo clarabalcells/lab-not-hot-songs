{
 "cells": [
  {
   "cell_type": "code",
   "execution_count": 1,
   "id": "bbe3704a",
   "metadata": {},
   "outputs": [],
   "source": [
    "import requests\n",
    "from bs4 import BeautifulSoup\n",
    "import pandas as pd\n",
    "import numpy as np"
   ]
  },
  {
   "cell_type": "code",
   "execution_count": 2,
   "id": "7acae1b4",
   "metadata": {
    "scrolled": false
   },
   "outputs": [
    {
     "data": {
      "text/html": [
       "<div>\n",
       "<style scoped>\n",
       "    .dataframe tbody tr th:only-of-type {\n",
       "        vertical-align: middle;\n",
       "    }\n",
       "\n",
       "    .dataframe tbody tr th {\n",
       "        vertical-align: top;\n",
       "    }\n",
       "\n",
       "    .dataframe thead th {\n",
       "        text-align: right;\n",
       "    }\n",
       "</style>\n",
       "<table border=\"1\" class=\"dataframe\">\n",
       "  <thead>\n",
       "    <tr style=\"text-align: right;\">\n",
       "      <th></th>\n",
       "      <th>title</th>\n",
       "      <th>artist</th>\n",
       "    </tr>\n",
       "  </thead>\n",
       "  <tbody>\n",
       "    <tr>\n",
       "      <th>0</th>\n",
       "      <td>Like a Rolling Stone</td>\n",
       "      <td>Bob Dylan</td>\n",
       "    </tr>\n",
       "    <tr>\n",
       "      <th>1</th>\n",
       "      <td>(I Can't Get No) Satisfaction'</td>\n",
       "      <td>The Rolling Stones</td>\n",
       "    </tr>\n",
       "    <tr>\n",
       "      <th>2</th>\n",
       "      <td>Imagine</td>\n",
       "      <td>John Lennon</td>\n",
       "    </tr>\n",
       "    <tr>\n",
       "      <th>3</th>\n",
       "      <td>What's Going On</td>\n",
       "      <td>Marvin Gaye</td>\n",
       "    </tr>\n",
       "    <tr>\n",
       "      <th>4</th>\n",
       "      <td>Respect</td>\n",
       "      <td>Aretha Franklin</td>\n",
       "    </tr>\n",
       "  </tbody>\n",
       "</table>\n",
       "</div>"
      ],
      "text/plain": [
       "                            title              artist\n",
       "0            Like a Rolling Stone           Bob Dylan\n",
       "1  (I Can't Get No) Satisfaction'  The Rolling Stones\n",
       "2                         Imagine         John Lennon\n",
       "3                 What's Going On         Marvin Gaye\n",
       "4                         Respect     Aretha Franklin"
      ]
     },
     "execution_count": 2,
     "metadata": {},
     "output_type": "execute_result"
    }
   ],
   "source": [
    "nothotsongs=pd.read_csv('Top500Songs.csv', encoding='latin1')\n",
    "nothotsongs.head()\n",
    "not_hot_songs=nothotsongs.loc[:,['title','artist']]\n",
    "not_hot_songs.head()"
   ]
  },
  {
   "cell_type": "code",
   "execution_count": 3,
   "id": "e3a79c0f",
   "metadata": {},
   "outputs": [
    {
     "data": {
      "text/plain": [
       "title     0\n",
       "artist    0\n",
       "dtype: int64"
      ]
     },
     "execution_count": 3,
     "metadata": {},
     "output_type": "execute_result"
    }
   ],
   "source": [
    "not_hot_songs.isna().sum()"
   ]
  },
  {
   "cell_type": "code",
   "execution_count": 4,
   "id": "02360b44",
   "metadata": {},
   "outputs": [
    {
     "data": {
      "text/plain": [
       "(500, 2)"
      ]
     },
     "execution_count": 4,
     "metadata": {},
     "output_type": "execute_result"
    }
   ],
   "source": [
    "not_hot_songs.shape"
   ]
  },
  {
   "cell_type": "code",
   "execution_count": 5,
   "id": "cf9309fa",
   "metadata": {},
   "outputs": [
    {
     "data": {
      "text/html": [
       "<div>\n",
       "<style scoped>\n",
       "    .dataframe tbody tr th:only-of-type {\n",
       "        vertical-align: middle;\n",
       "    }\n",
       "\n",
       "    .dataframe tbody tr th {\n",
       "        vertical-align: top;\n",
       "    }\n",
       "\n",
       "    .dataframe thead th {\n",
       "        text-align: right;\n",
       "    }\n",
       "</style>\n",
       "<table border=\"1\" class=\"dataframe\">\n",
       "  <thead>\n",
       "    <tr style=\"text-align: right;\">\n",
       "      <th></th>\n",
       "      <th>title</th>\n",
       "      <th>artist</th>\n",
       "    </tr>\n",
       "  </thead>\n",
       "  <tbody>\n",
       "    <tr>\n",
       "      <th>0</th>\n",
       "      <td>Like a Rolling Stone</td>\n",
       "      <td>Bob Dylan</td>\n",
       "    </tr>\n",
       "    <tr>\n",
       "      <th>1</th>\n",
       "      <td>(I Can't Get No) Satisfaction'</td>\n",
       "      <td>The Rolling Stones</td>\n",
       "    </tr>\n",
       "    <tr>\n",
       "      <th>2</th>\n",
       "      <td>Imagine</td>\n",
       "      <td>John Lennon</td>\n",
       "    </tr>\n",
       "    <tr>\n",
       "      <th>3</th>\n",
       "      <td>What's Going On</td>\n",
       "      <td>Marvin Gaye</td>\n",
       "    </tr>\n",
       "    <tr>\n",
       "      <th>4</th>\n",
       "      <td>Respect</td>\n",
       "      <td>Aretha Franklin</td>\n",
       "    </tr>\n",
       "    <tr>\n",
       "      <th>...</th>\n",
       "      <td>...</td>\n",
       "      <td>...</td>\n",
       "    </tr>\n",
       "    <tr>\n",
       "      <th>495</th>\n",
       "      <td>Heroin</td>\n",
       "      <td>The Velvet Underground</td>\n",
       "    </tr>\n",
       "    <tr>\n",
       "      <th>496</th>\n",
       "      <td>Leader of the Pack</td>\n",
       "      <td>The Shangri-Las</td>\n",
       "    </tr>\n",
       "    <tr>\n",
       "      <th>497</th>\n",
       "      <td>Pressure Drop</td>\n",
       "      <td>Toots and the Maytals</td>\n",
       "    </tr>\n",
       "    <tr>\n",
       "      <th>498</th>\n",
       "      <td>Come As You Are</td>\n",
       "      <td>Nirvana</td>\n",
       "    </tr>\n",
       "    <tr>\n",
       "      <th>499</th>\n",
       "      <td>I Got You Babe</td>\n",
       "      <td>Sonny and Cher</td>\n",
       "    </tr>\n",
       "  </tbody>\n",
       "</table>\n",
       "<p>450 rows × 2 columns</p>\n",
       "</div>"
      ],
      "text/plain": [
       "                              title                  artist\n",
       "0              Like a Rolling Stone               Bob Dylan\n",
       "1    (I Can't Get No) Satisfaction'      The Rolling Stones\n",
       "2                           Imagine             John Lennon\n",
       "3                   What's Going On             Marvin Gaye\n",
       "4                           Respect         Aretha Franklin\n",
       "..                              ...                     ...\n",
       "495                          Heroin  The Velvet Underground\n",
       "496              Leader of the Pack         The Shangri-Las\n",
       "497                   Pressure Drop   Toots and the Maytals\n",
       "498                 Come As You Are                 Nirvana\n",
       "499                  I Got You Babe          Sonny and Cher\n",
       "\n",
       "[450 rows x 2 columns]"
      ]
     },
     "execution_count": 5,
     "metadata": {},
     "output_type": "execute_result"
    }
   ],
   "source": [
    "not_hot_songs.drop_duplicates()"
   ]
  },
  {
   "cell_type": "code",
   "execution_count": 6,
   "id": "a8e62554",
   "metadata": {},
   "outputs": [
    {
     "data": {
      "text/plain": [
       "0             Anti-Hero\n",
       "1         Lavender Haze\n",
       "2                Maroon\n",
       "3     Snow On The Beach\n",
       "4         Midnight Rain\n",
       "            ...        \n",
       "95             Dark Red\n",
       "96          From Now On\n",
       "97            Forget Me\n",
       "98             Miss You\n",
       "99             Despecha\n",
       "Name: title, Length: 100, dtype: object"
      ]
     },
     "execution_count": 6,
     "metadata": {},
     "output_type": "execute_result"
    }
   ],
   "source": [
    "hot_songsdf=pd.read_csv('hotsongs.csv')\n",
    "hot_songsdf.head()\n",
    "hot_songsdf['title']"
   ]
  },
  {
   "cell_type": "code",
   "execution_count": 7,
   "id": "6d1518a3",
   "metadata": {},
   "outputs": [
    {
     "data": {
      "text/html": [
       "<div>\n",
       "<style scoped>\n",
       "    .dataframe tbody tr th:only-of-type {\n",
       "        vertical-align: middle;\n",
       "    }\n",
       "\n",
       "    .dataframe tbody tr th {\n",
       "        vertical-align: top;\n",
       "    }\n",
       "\n",
       "    .dataframe thead th {\n",
       "        text-align: right;\n",
       "    }\n",
       "</style>\n",
       "<table border=\"1\" class=\"dataframe\">\n",
       "  <thead>\n",
       "    <tr style=\"text-align: right;\">\n",
       "      <th></th>\n",
       "      <th>Unnamed: 0</th>\n",
       "      <th>title</th>\n",
       "      <th>artist</th>\n",
       "    </tr>\n",
       "  </thead>\n",
       "  <tbody>\n",
       "    <tr>\n",
       "      <th>0</th>\n",
       "      <td>0</td>\n",
       "      <td>Anti-Hero</td>\n",
       "      <td>Taylor Swift</td>\n",
       "    </tr>\n",
       "    <tr>\n",
       "      <th>1</th>\n",
       "      <td>1</td>\n",
       "      <td>Lavender Haze</td>\n",
       "      <td>Taylor Swift</td>\n",
       "    </tr>\n",
       "    <tr>\n",
       "      <th>2</th>\n",
       "      <td>2</td>\n",
       "      <td>Maroon</td>\n",
       "      <td>Taylor Swift</td>\n",
       "    </tr>\n",
       "    <tr>\n",
       "      <th>3</th>\n",
       "      <td>3</td>\n",
       "      <td>Snow On The Beach</td>\n",
       "      <td>Taylor Swift Featuring Lana Del Rey</td>\n",
       "    </tr>\n",
       "    <tr>\n",
       "      <th>4</th>\n",
       "      <td>4</td>\n",
       "      <td>Midnight Rain</td>\n",
       "      <td>Taylor Swift</td>\n",
       "    </tr>\n",
       "    <tr>\n",
       "      <th>...</th>\n",
       "      <td>...</td>\n",
       "      <td>...</td>\n",
       "      <td>...</td>\n",
       "    </tr>\n",
       "    <tr>\n",
       "      <th>95</th>\n",
       "      <td>95</td>\n",
       "      <td>Dark Red</td>\n",
       "      <td>78</td>\n",
       "    </tr>\n",
       "    <tr>\n",
       "      <th>96</th>\n",
       "      <td>96</td>\n",
       "      <td>From Now On</td>\n",
       "      <td>Lil Baby Featuring Future</td>\n",
       "    </tr>\n",
       "    <tr>\n",
       "      <th>97</th>\n",
       "      <td>97</td>\n",
       "      <td>Forget Me</td>\n",
       "      <td>Lewis Capaldi</td>\n",
       "    </tr>\n",
       "    <tr>\n",
       "      <th>98</th>\n",
       "      <td>98</td>\n",
       "      <td>Miss You</td>\n",
       "      <td>Oliver Tree &amp; Robin Schulz</td>\n",
       "    </tr>\n",
       "    <tr>\n",
       "      <th>99</th>\n",
       "      <td>99</td>\n",
       "      <td>Despecha</td>\n",
       "      <td>Rosalia</td>\n",
       "    </tr>\n",
       "  </tbody>\n",
       "</table>\n",
       "<p>100 rows × 3 columns</p>\n",
       "</div>"
      ],
      "text/plain": [
       "    Unnamed: 0              title                               artist\n",
       "0            0          Anti-Hero                         Taylor Swift\n",
       "1            1      Lavender Haze                         Taylor Swift\n",
       "2            2             Maroon                         Taylor Swift\n",
       "3            3  Snow On The Beach  Taylor Swift Featuring Lana Del Rey\n",
       "4            4      Midnight Rain                         Taylor Swift\n",
       "..         ...                ...                                  ...\n",
       "95          95           Dark Red                                   78\n",
       "96          96        From Now On            Lil Baby Featuring Future\n",
       "97          97          Forget Me                        Lewis Capaldi\n",
       "98          98           Miss You           Oliver Tree & Robin Schulz\n",
       "99          99           Despecha                              Rosalia\n",
       "\n",
       "[100 rows x 3 columns]"
      ]
     },
     "execution_count": 7,
     "metadata": {},
     "output_type": "execute_result"
    }
   ],
   "source": [
    "hot_songsdf"
   ]
  },
  {
   "cell_type": "code",
   "execution_count": 8,
   "id": "ffc5b082",
   "metadata": {},
   "outputs": [],
   "source": [
    "hot_songs = hot_songsdf.drop(labels='Unnamed: 0', axis=1)"
   ]
  },
  {
   "cell_type": "code",
   "execution_count": 9,
   "id": "26128a9f",
   "metadata": {},
   "outputs": [
    {
     "data": {
      "text/html": [
       "<div>\n",
       "<style scoped>\n",
       "    .dataframe tbody tr th:only-of-type {\n",
       "        vertical-align: middle;\n",
       "    }\n",
       "\n",
       "    .dataframe tbody tr th {\n",
       "        vertical-align: top;\n",
       "    }\n",
       "\n",
       "    .dataframe thead th {\n",
       "        text-align: right;\n",
       "    }\n",
       "</style>\n",
       "<table border=\"1\" class=\"dataframe\">\n",
       "  <thead>\n",
       "    <tr style=\"text-align: right;\">\n",
       "      <th></th>\n",
       "      <th>title</th>\n",
       "      <th>artist</th>\n",
       "    </tr>\n",
       "  </thead>\n",
       "  <tbody>\n",
       "    <tr>\n",
       "      <th>0</th>\n",
       "      <td>Anti-Hero</td>\n",
       "      <td>Taylor Swift</td>\n",
       "    </tr>\n",
       "    <tr>\n",
       "      <th>1</th>\n",
       "      <td>Lavender Haze</td>\n",
       "      <td>Taylor Swift</td>\n",
       "    </tr>\n",
       "    <tr>\n",
       "      <th>2</th>\n",
       "      <td>Maroon</td>\n",
       "      <td>Taylor Swift</td>\n",
       "    </tr>\n",
       "    <tr>\n",
       "      <th>3</th>\n",
       "      <td>Snow On The Beach</td>\n",
       "      <td>Taylor Swift Featuring Lana Del Rey</td>\n",
       "    </tr>\n",
       "    <tr>\n",
       "      <th>4</th>\n",
       "      <td>Midnight Rain</td>\n",
       "      <td>Taylor Swift</td>\n",
       "    </tr>\n",
       "    <tr>\n",
       "      <th>...</th>\n",
       "      <td>...</td>\n",
       "      <td>...</td>\n",
       "    </tr>\n",
       "    <tr>\n",
       "      <th>95</th>\n",
       "      <td>Dark Red</td>\n",
       "      <td>78</td>\n",
       "    </tr>\n",
       "    <tr>\n",
       "      <th>96</th>\n",
       "      <td>From Now On</td>\n",
       "      <td>Lil Baby Featuring Future</td>\n",
       "    </tr>\n",
       "    <tr>\n",
       "      <th>97</th>\n",
       "      <td>Forget Me</td>\n",
       "      <td>Lewis Capaldi</td>\n",
       "    </tr>\n",
       "    <tr>\n",
       "      <th>98</th>\n",
       "      <td>Miss You</td>\n",
       "      <td>Oliver Tree &amp; Robin Schulz</td>\n",
       "    </tr>\n",
       "    <tr>\n",
       "      <th>99</th>\n",
       "      <td>Despecha</td>\n",
       "      <td>Rosalia</td>\n",
       "    </tr>\n",
       "  </tbody>\n",
       "</table>\n",
       "<p>100 rows × 2 columns</p>\n",
       "</div>"
      ],
      "text/plain": [
       "                title                               artist\n",
       "0           Anti-Hero                         Taylor Swift\n",
       "1       Lavender Haze                         Taylor Swift\n",
       "2              Maroon                         Taylor Swift\n",
       "3   Snow On The Beach  Taylor Swift Featuring Lana Del Rey\n",
       "4       Midnight Rain                         Taylor Swift\n",
       "..                ...                                  ...\n",
       "95           Dark Red                                   78\n",
       "96        From Now On            Lil Baby Featuring Future\n",
       "97          Forget Me                        Lewis Capaldi\n",
       "98           Miss You           Oliver Tree & Robin Schulz\n",
       "99           Despecha                              Rosalia\n",
       "\n",
       "[100 rows x 2 columns]"
      ]
     },
     "execution_count": 9,
     "metadata": {},
     "output_type": "execute_result"
    }
   ],
   "source": [
    "hot_songs"
   ]
  },
  {
   "cell_type": "code",
   "execution_count": 10,
   "id": "35794ed1",
   "metadata": {},
   "outputs": [
    {
     "data": {
      "text/html": [
       "<div>\n",
       "<style scoped>\n",
       "    .dataframe tbody tr th:only-of-type {\n",
       "        vertical-align: middle;\n",
       "    }\n",
       "\n",
       "    .dataframe tbody tr th {\n",
       "        vertical-align: top;\n",
       "    }\n",
       "\n",
       "    .dataframe thead th {\n",
       "        text-align: right;\n",
       "    }\n",
       "</style>\n",
       "<table border=\"1\" class=\"dataframe\">\n",
       "  <thead>\n",
       "    <tr style=\"text-align: right;\">\n",
       "      <th></th>\n",
       "      <th>title</th>\n",
       "      <th>artist</th>\n",
       "    </tr>\n",
       "  </thead>\n",
       "  <tbody>\n",
       "    <tr>\n",
       "      <th>0</th>\n",
       "      <td>Like a Rolling Stone</td>\n",
       "      <td>Bob Dylan</td>\n",
       "    </tr>\n",
       "    <tr>\n",
       "      <th>1</th>\n",
       "      <td>(I Can't Get No) Satisfaction'</td>\n",
       "      <td>The Rolling Stones</td>\n",
       "    </tr>\n",
       "    <tr>\n",
       "      <th>2</th>\n",
       "      <td>Imagine</td>\n",
       "      <td>John Lennon</td>\n",
       "    </tr>\n",
       "    <tr>\n",
       "      <th>3</th>\n",
       "      <td>What's Going On</td>\n",
       "      <td>Marvin Gaye</td>\n",
       "    </tr>\n",
       "    <tr>\n",
       "      <th>4</th>\n",
       "      <td>Respect</td>\n",
       "      <td>Aretha Franklin</td>\n",
       "    </tr>\n",
       "    <tr>\n",
       "      <th>...</th>\n",
       "      <td>...</td>\n",
       "      <td>...</td>\n",
       "    </tr>\n",
       "    <tr>\n",
       "      <th>495</th>\n",
       "      <td>Heroin</td>\n",
       "      <td>The Velvet Underground</td>\n",
       "    </tr>\n",
       "    <tr>\n",
       "      <th>496</th>\n",
       "      <td>Leader of the Pack</td>\n",
       "      <td>The Shangri-Las</td>\n",
       "    </tr>\n",
       "    <tr>\n",
       "      <th>497</th>\n",
       "      <td>Pressure Drop</td>\n",
       "      <td>Toots and the Maytals</td>\n",
       "    </tr>\n",
       "    <tr>\n",
       "      <th>498</th>\n",
       "      <td>Come As You Are</td>\n",
       "      <td>Nirvana</td>\n",
       "    </tr>\n",
       "    <tr>\n",
       "      <th>499</th>\n",
       "      <td>I Got You Babe</td>\n",
       "      <td>Sonny and Cher</td>\n",
       "    </tr>\n",
       "  </tbody>\n",
       "</table>\n",
       "<p>500 rows × 2 columns</p>\n",
       "</div>"
      ],
      "text/plain": [
       "                              title                  artist\n",
       "0              Like a Rolling Stone               Bob Dylan\n",
       "1    (I Can't Get No) Satisfaction'      The Rolling Stones\n",
       "2                           Imagine             John Lennon\n",
       "3                   What's Going On             Marvin Gaye\n",
       "4                           Respect         Aretha Franklin\n",
       "..                              ...                     ...\n",
       "495                          Heroin  The Velvet Underground\n",
       "496              Leader of the Pack         The Shangri-Las\n",
       "497                   Pressure Drop   Toots and the Maytals\n",
       "498                 Come As You Are                 Nirvana\n",
       "499                  I Got You Babe          Sonny and Cher\n",
       "\n",
       "[500 rows x 2 columns]"
      ]
     },
     "execution_count": 10,
     "metadata": {},
     "output_type": "execute_result"
    }
   ],
   "source": [
    "not_hot_songs "
   ]
  },
  {
   "cell_type": "code",
   "execution_count": 12,
   "id": "4e9cfc3e",
   "metadata": {},
   "outputs": [],
   "source": [
    "not_hot_songs.to_csv(\"not_hot_songs.csv\")"
   ]
  },
  {
   "cell_type": "code",
   "execution_count": 176,
   "id": "091a7b44",
   "metadata": {},
   "outputs": [
    {
     "name": "stdout",
     "output_type": "stream",
     "text": [
      "Requirement already satisfied: fuzzywuzzy in /Users/clara/opt/anaconda3/lib/python3.9/site-packages (0.18.0)\n",
      "Note: you may need to restart the kernel to use updated packages.\n"
     ]
    }
   ],
   "source": [
    "pip install fuzzywuzzy"
   ]
  },
  {
   "cell_type": "code",
   "execution_count": 172,
   "id": "87c21702",
   "metadata": {},
   "outputs": [],
   "source": [
    "import csv\n",
    "from fuzzywuzzy import fuzz, process"
   ]
  }
 ],
 "metadata": {
  "kernelspec": {
   "display_name": "Python 3 (ipykernel)",
   "language": "python",
   "name": "python3"
  },
  "language_info": {
   "codemirror_mode": {
    "name": "ipython",
    "version": 3
   },
   "file_extension": ".py",
   "mimetype": "text/x-python",
   "name": "python",
   "nbconvert_exporter": "python",
   "pygments_lexer": "ipython3",
   "version": "3.9.12"
  }
 },
 "nbformat": 4,
 "nbformat_minor": 5
}
